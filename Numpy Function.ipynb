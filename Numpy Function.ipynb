{
 "cells": [
  {
   "cell_type": "markdown",
   "metadata": {},
   "source": [
    "# Numpy Function"
   ]
  },
  {
   "cell_type": "markdown",
   "metadata": {},
   "source": [
    "NumPy is a general-purpose array processing package. It provides high-performance multidimensional array object, and tools for working with these arrays. It is a fundamental package for scientific computing with Python. "
   ]
  },
  {
   "cell_type": "markdown",
   "metadata": {},
   "source": [
    "### What is an array? "
   ]
  },
  {
   "cell_type": "markdown",
   "metadata": {},
   "source": [
    "An array is a data structure that stores values of same data type. In Python, this is the main difference between arrays and lists. While python lists can contain values corresponding to different data types, arrays in Python can only contain values corresponding to same data type. "
   ]
  },
  {
   "cell_type": "code",
   "execution_count": 4,
   "metadata": {},
   "outputs": [],
   "source": [
    "# pip install numpy - In case you have installed python manually\n",
    "# conda install numpy - In case you have installed conda environment"
   ]
  },
  {
   "cell_type": "code",
   "execution_count": 2,
   "metadata": {},
   "outputs": [],
   "source": [
    "# Importing Numpy library\n",
    "\n",
    "import numpy as np "
   ]
  },
  {
   "cell_type": "code",
   "execution_count": 5,
   "metadata": {},
   "outputs": [],
   "source": [
    "# Converting list into array\n",
    "\n",
    "my_lst = [1,2,3,4,5]\n",
    "\n",
    "arr = np.array(my_lst)"
   ]
  },
  {
   "cell_type": "code",
   "execution_count": 6,
   "metadata": {},
   "outputs": [
    {
     "data": {
      "text/plain": [
       "numpy.ndarray"
      ]
     },
     "execution_count": 6,
     "metadata": {},
     "output_type": "execute_result"
    }
   ],
   "source": [
    "type(arr)"
   ]
  },
  {
   "cell_type": "code",
   "execution_count": 7,
   "metadata": {},
   "outputs": [
    {
     "data": {
      "text/plain": [
       "array([1, 2, 3, 4, 5])"
      ]
     },
     "execution_count": 7,
     "metadata": {},
     "output_type": "execute_result"
    }
   ],
   "source": [
    "arr"
   ]
  },
  {
   "cell_type": "code",
   "execution_count": 8,
   "metadata": {},
   "outputs": [
    {
     "data": {
      "text/plain": [
       "(5,)"
      ]
     },
     "execution_count": 8,
     "metadata": {},
     "output_type": "execute_result"
    }
   ],
   "source": [
    "arr.shape"
   ]
  },
  {
   "cell_type": "code",
   "execution_count": 22,
   "metadata": {},
   "outputs": [],
   "source": [
    "## Multinested array\n",
    "\n",
    "my_lst1 = [1,2,3,4,5]\n",
    "my_lst2 = [2,3,4,5,6]\n",
    "my_lst3 = [9,7,6,8,9]\n",
    "\n",
    "arr = np.array([my_lst1, my_lst2,my_lst3])"
   ]
  },
  {
   "cell_type": "code",
   "execution_count": 23,
   "metadata": {},
   "outputs": [
    {
     "data": {
      "text/plain": [
       "array([[1, 2, 3, 4, 5],\n",
       "       [2, 3, 4, 5, 6],\n",
       "       [9, 7, 6, 8, 9]])"
      ]
     },
     "execution_count": 23,
     "metadata": {},
     "output_type": "execute_result"
    }
   ],
   "source": [
    "arr"
   ]
  },
  {
   "cell_type": "code",
   "execution_count": 18,
   "metadata": {},
   "outputs": [
    {
     "data": {
      "text/plain": [
       "(3, 5)"
      ]
     },
     "execution_count": 18,
     "metadata": {},
     "output_type": "execute_result"
    }
   ],
   "source": [
    "arr.shape"
   ]
  },
  {
   "cell_type": "code",
   "execution_count": 19,
   "metadata": {},
   "outputs": [
    {
     "data": {
      "text/plain": [
       "array([[1, 2, 3],\n",
       "       [4, 5, 2],\n",
       "       [3, 4, 5],\n",
       "       [6, 9, 7],\n",
       "       [6, 8, 9]])"
      ]
     },
     "execution_count": 19,
     "metadata": {},
     "output_type": "execute_result"
    }
   ],
   "source": [
    "arr.reshape(5,3)"
   ]
  },
  {
   "cell_type": "markdown",
   "metadata": {},
   "source": [
    "# Indexing"
   ]
  },
  {
   "cell_type": "code",
   "execution_count": 20,
   "metadata": {},
   "outputs": [],
   "source": [
    "## Accesing the array element\n",
    "\n",
    "arr = np.array([1,2,3,4,5,6,7,8,9])"
   ]
  },
  {
   "cell_type": "code",
   "execution_count": 21,
   "metadata": {},
   "outputs": [
    {
     "data": {
      "text/plain": [
       "4"
      ]
     },
     "execution_count": 21,
     "metadata": {},
     "output_type": "execute_result"
    }
   ],
   "source": [
    "arr[3]"
   ]
  },
  {
   "cell_type": "code",
   "execution_count": 24,
   "metadata": {},
   "outputs": [
    {
     "data": {
      "text/plain": [
       "array([[1, 2, 3, 4, 5],\n",
       "       [2, 3, 4, 5, 6],\n",
       "       [9, 7, 6, 8, 9]])"
      ]
     },
     "execution_count": 24,
     "metadata": {},
     "output_type": "execute_result"
    }
   ],
   "source": [
    "arr"
   ]
  },
  {
   "cell_type": "code",
   "execution_count": 25,
   "metadata": {},
   "outputs": [
    {
     "data": {
      "text/plain": [
       "array([[5, 6],\n",
       "       [8, 9]])"
      ]
     },
     "execution_count": 25,
     "metadata": {},
     "output_type": "execute_result"
    }
   ],
   "source": [
    "arr[1:,3:]"
   ]
  },
  {
   "cell_type": "code",
   "execution_count": 26,
   "metadata": {},
   "outputs": [
    {
     "data": {
      "text/plain": [
       "array([[4, 5],\n",
       "       [6, 8]])"
      ]
     },
     "execution_count": 26,
     "metadata": {},
     "output_type": "execute_result"
    }
   ],
   "source": [
    "arr[1:,2:4]"
   ]
  },
  {
   "cell_type": "code",
   "execution_count": 27,
   "metadata": {},
   "outputs": [
    {
     "data": {
      "text/plain": [
       "array([[3, 4, 5]])"
      ]
     },
     "execution_count": 27,
     "metadata": {},
     "output_type": "execute_result"
    }
   ],
   "source": [
    "arr[1:2,1:4]"
   ]
  },
  {
   "cell_type": "code",
   "execution_count": 29,
   "metadata": {},
   "outputs": [],
   "source": [
    "arr = np.arange(0,10)"
   ]
  },
  {
   "cell_type": "code",
   "execution_count": 30,
   "metadata": {},
   "outputs": [
    {
     "data": {
      "text/plain": [
       "array([0, 1, 2, 3, 4, 5, 6, 7, 8, 9])"
      ]
     },
     "execution_count": 30,
     "metadata": {},
     "output_type": "execute_result"
    }
   ],
   "source": [
    "arr"
   ]
  },
  {
   "cell_type": "code",
   "execution_count": 31,
   "metadata": {},
   "outputs": [],
   "source": [
    "arr = np.arange(0,10, step = 2)"
   ]
  },
  {
   "cell_type": "code",
   "execution_count": 32,
   "metadata": {},
   "outputs": [
    {
     "data": {
      "text/plain": [
       "array([0, 2, 4, 6, 8])"
      ]
     },
     "execution_count": 32,
     "metadata": {},
     "output_type": "execute_result"
    }
   ],
   "source": [
    "arr"
   ]
  },
  {
   "cell_type": "code",
   "execution_count": 33,
   "metadata": {},
   "outputs": [
    {
     "data": {
      "text/plain": [
       "array([  1.        ,   1.39759036,   1.79518072,   2.19277108,\n",
       "         2.59036145,   2.98795181,   3.38554217,   3.78313253,\n",
       "         4.18072289,   4.57831325,   4.97590361,   5.37349398,\n",
       "         5.77108434,   6.1686747 ,   6.56626506,   6.96385542,\n",
       "         7.36144578,   7.75903614,   8.15662651,   8.55421687,\n",
       "         8.95180723,   9.34939759,   9.74698795,  10.14457831,\n",
       "        10.54216867,  10.93975904,  11.3373494 ,  11.73493976,\n",
       "        12.13253012,  12.53012048,  12.92771084,  13.3253012 ,\n",
       "        13.72289157,  14.12048193,  14.51807229,  14.91566265,\n",
       "        15.31325301,  15.71084337,  16.10843373,  16.5060241 ,\n",
       "        16.90361446,  17.30120482,  17.69879518,  18.09638554,\n",
       "        18.4939759 ,  18.89156627,  19.28915663,  19.68674699,\n",
       "        20.08433735,  20.48192771,  20.87951807,  21.27710843,\n",
       "        21.6746988 ,  22.07228916,  22.46987952,  22.86746988,\n",
       "        23.26506024,  23.6626506 ,  24.06024096,  24.45783133,\n",
       "        24.85542169,  25.25301205,  25.65060241,  26.04819277,\n",
       "        26.44578313,  26.84337349,  27.24096386,  27.63855422,\n",
       "        28.03614458,  28.43373494,  28.8313253 ,  29.22891566,\n",
       "        29.62650602,  30.02409639,  30.42168675,  30.81927711,\n",
       "        31.21686747,  31.61445783,  32.01204819,  32.40963855,\n",
       "        32.80722892,  33.20481928,  33.60240964,  34.        ,\n",
       "        34.39759036,  34.79518072,  35.19277108,  35.59036145,\n",
       "        35.98795181,  36.38554217,  36.78313253,  37.18072289,\n",
       "        37.57831325,  37.97590361,  38.37349398,  38.77108434,\n",
       "        39.1686747 ,  39.56626506,  39.96385542,  40.36144578,\n",
       "        40.75903614,  41.15662651,  41.55421687,  41.95180723,\n",
       "        42.34939759,  42.74698795,  43.14457831,  43.54216867,\n",
       "        43.93975904,  44.3373494 ,  44.73493976,  45.13253012,\n",
       "        45.53012048,  45.92771084,  46.3253012 ,  46.72289157,\n",
       "        47.12048193,  47.51807229,  47.91566265,  48.31325301,\n",
       "        48.71084337,  49.10843373,  49.5060241 ,  49.90361446,\n",
       "        50.30120482,  50.69879518,  51.09638554,  51.4939759 ,\n",
       "        51.89156627,  52.28915663,  52.68674699,  53.08433735,\n",
       "        53.48192771,  53.87951807,  54.27710843,  54.6746988 ,\n",
       "        55.07228916,  55.46987952,  55.86746988,  56.26506024,\n",
       "        56.6626506 ,  57.06024096,  57.45783133,  57.85542169,\n",
       "        58.25301205,  58.65060241,  59.04819277,  59.44578313,\n",
       "        59.84337349,  60.24096386,  60.63855422,  61.03614458,\n",
       "        61.43373494,  61.8313253 ,  62.22891566,  62.62650602,\n",
       "        63.02409639,  63.42168675,  63.81927711,  64.21686747,\n",
       "        64.61445783,  65.01204819,  65.40963855,  65.80722892,\n",
       "        66.20481928,  66.60240964,  67.        ,  67.39759036,\n",
       "        67.79518072,  68.19277108,  68.59036145,  68.98795181,\n",
       "        69.38554217,  69.78313253,  70.18072289,  70.57831325,\n",
       "        70.97590361,  71.37349398,  71.77108434,  72.1686747 ,\n",
       "        72.56626506,  72.96385542,  73.36144578,  73.75903614,\n",
       "        74.15662651,  74.55421687,  74.95180723,  75.34939759,\n",
       "        75.74698795,  76.14457831,  76.54216867,  76.93975904,\n",
       "        77.3373494 ,  77.73493976,  78.13253012,  78.53012048,\n",
       "        78.92771084,  79.3253012 ,  79.72289157,  80.12048193,\n",
       "        80.51807229,  80.91566265,  81.31325301,  81.71084337,\n",
       "        82.10843373,  82.5060241 ,  82.90361446,  83.30120482,\n",
       "        83.69879518,  84.09638554,  84.4939759 ,  84.89156627,\n",
       "        85.28915663,  85.68674699,  86.08433735,  86.48192771,\n",
       "        86.87951807,  87.27710843,  87.6746988 ,  88.07228916,\n",
       "        88.46987952,  88.86746988,  89.26506024,  89.6626506 ,\n",
       "        90.06024096,  90.45783133,  90.85542169,  91.25301205,\n",
       "        91.65060241,  92.04819277,  92.44578313,  92.84337349,\n",
       "        93.24096386,  93.63855422,  94.03614458,  94.43373494,\n",
       "        94.8313253 ,  95.22891566,  95.62650602,  96.02409639,\n",
       "        96.42168675,  96.81927711,  97.21686747,  97.61445783,\n",
       "        98.01204819,  98.40963855,  98.80722892,  99.20481928,\n",
       "        99.60240964, 100.        ])"
      ]
     },
     "execution_count": 33,
     "metadata": {},
     "output_type": "execute_result"
    }
   ],
   "source": [
    "# To get n numbers of point between 2 values\n",
    "\n",
    "np.linspace(1,100,250)"
   ]
  },
  {
   "cell_type": "code",
   "execution_count": 35,
   "metadata": {},
   "outputs": [],
   "source": [
    "# Copy() Function and broadcasting\n",
    "\n",
    "arr = np.array([1,2,3,4,5,6,7,8,9])"
   ]
  },
  {
   "cell_type": "code",
   "execution_count": 36,
   "metadata": {},
   "outputs": [],
   "source": [
    "arr[3:] = 100"
   ]
  },
  {
   "cell_type": "code",
   "execution_count": 37,
   "metadata": {},
   "outputs": [
    {
     "data": {
      "text/plain": [
       "array([  1,   2,   3, 100, 100, 100, 100, 100, 100])"
      ]
     },
     "execution_count": 37,
     "metadata": {},
     "output_type": "execute_result"
    }
   ],
   "source": [
    "arr"
   ]
  },
  {
   "cell_type": "code",
   "execution_count": 38,
   "metadata": {},
   "outputs": [],
   "source": [
    "arr1 = arr"
   ]
  },
  {
   "cell_type": "code",
   "execution_count": 39,
   "metadata": {},
   "outputs": [
    {
     "name": "stdout",
     "output_type": "stream",
     "text": [
      "[  1   2   3 500 500 500 500 500 500]\n"
     ]
    }
   ],
   "source": [
    "arr1[3:] = 500\n",
    "print(arr1)"
   ]
  },
  {
   "cell_type": "code",
   "execution_count": 40,
   "metadata": {},
   "outputs": [
    {
     "data": {
      "text/plain": [
       "array([  1,   2,   3, 500, 500, 500, 500, 500, 500])"
      ]
     },
     "execution_count": 40,
     "metadata": {},
     "output_type": "execute_result"
    }
   ],
   "source": [
    "arr "
   ]
  },
  {
   "cell_type": "markdown",
   "metadata": {},
   "source": [
    "Since arr1 = arr, updating arr1 will also make changes in arr. In order to prevent such occurences, we will need to use copy function. "
   ]
  },
  {
   "cell_type": "code",
   "execution_count": 41,
   "metadata": {},
   "outputs": [],
   "source": [
    "arr1 = arr.copy()"
   ]
  },
  {
   "cell_type": "code",
   "execution_count": 42,
   "metadata": {},
   "outputs": [
    {
     "name": "stdout",
     "output_type": "stream",
     "text": [
      "[  1   2   3 500 500 500 500 500 500]\n",
      "[   1    2    3 1000 1000 1000 1000 1000 1000]\n"
     ]
    }
   ],
   "source": [
    "print(arr)\n",
    "arr1[3:] = 1000\n",
    "print(arr1)"
   ]
  },
  {
   "cell_type": "code",
   "execution_count": 43,
   "metadata": {},
   "outputs": [],
   "source": [
    "### Important conditions useful in Exploratory Data Analysis"
   ]
  },
  {
   "cell_type": "code",
   "execution_count": 44,
   "metadata": {},
   "outputs": [
    {
     "data": {
      "text/plain": [
       "array([ True, False, False, False, False, False, False, False, False])"
      ]
     },
     "execution_count": 44,
     "metadata": {},
     "output_type": "execute_result"
    }
   ],
   "source": [
    "val = 2\n",
    "\n",
    "arr < 2"
   ]
  },
  {
   "cell_type": "code",
   "execution_count": 45,
   "metadata": {},
   "outputs": [
    {
     "data": {
      "text/plain": [
       "array([   2,    4,    6, 1000, 1000, 1000, 1000, 1000, 1000])"
      ]
     },
     "execution_count": 45,
     "metadata": {},
     "output_type": "execute_result"
    }
   ],
   "source": [
    "arr* 2"
   ]
  },
  {
   "cell_type": "code",
   "execution_count": 46,
   "metadata": {},
   "outputs": [
    {
     "data": {
      "text/plain": [
       "array([1])"
      ]
     },
     "execution_count": 46,
     "metadata": {},
     "output_type": "execute_result"
    }
   ],
   "source": [
    "# To get an element\n",
    "\n",
    "arr[arr<2]"
   ]
  },
  {
   "cell_type": "code",
   "execution_count": 48,
   "metadata": {},
   "outputs": [
    {
     "data": {
      "text/plain": [
       "array([1., 1., 1., 1., 1., 1., 1.])"
      ]
     },
     "execution_count": 48,
     "metadata": {},
     "output_type": "execute_result"
    }
   ],
   "source": [
    "# To get number of ones in an array\n",
    "\n",
    "np.ones(7)"
   ]
  },
  {
   "cell_type": "code",
   "execution_count": 49,
   "metadata": {},
   "outputs": [
    {
     "data": {
      "text/plain": [
       "array([1, 1, 1, 1, 1, 1, 1])"
      ]
     },
     "execution_count": 49,
     "metadata": {},
     "output_type": "execute_result"
    }
   ],
   "source": [
    "np.ones(7, dtype = int)"
   ]
  },
  {
   "cell_type": "code",
   "execution_count": 50,
   "metadata": {},
   "outputs": [
    {
     "data": {
      "text/plain": [
       "array([[1., 1., 1., 1., 1.],\n",
       "       [1., 1., 1., 1., 1.]])"
      ]
     },
     "execution_count": 50,
     "metadata": {},
     "output_type": "execute_result"
    }
   ],
   "source": [
    "# We cab also give 2D arrays as well\n",
    "\n",
    "np.ones((2,5))"
   ]
  },
  {
   "cell_type": "code",
   "execution_count": 51,
   "metadata": {},
   "outputs": [
    {
     "data": {
      "text/plain": [
       "array([[0.26608108, 0.27930697, 0.69867794],\n",
       "       [0.44109547, 0.15300031, 0.60672385],\n",
       "       [0.03719441, 0.4440942 , 0.19342681]])"
      ]
     },
     "execution_count": 51,
     "metadata": {},
     "output_type": "execute_result"
    }
   ],
   "source": [
    "# Random Distribution\n",
    "\n",
    "np.random.rand(3,3)"
   ]
  },
  {
   "cell_type": "code",
   "execution_count": 52,
   "metadata": {},
   "outputs": [],
   "source": [
    "arr_ex = np.random.rand(4,4)"
   ]
  },
  {
   "cell_type": "code",
   "execution_count": 53,
   "metadata": {},
   "outputs": [
    {
     "data": {
      "text/plain": [
       "array([[0.95804901, 0.71803988, 0.85965713, 0.16412752],\n",
       "       [0.14319948, 0.05794038, 0.89928519, 0.50143319],\n",
       "       [0.05860593, 0.37358109, 0.51158826, 0.38462407],\n",
       "       [0.17681999, 0.35219493, 0.91483893, 0.49238556]])"
      ]
     },
     "execution_count": 53,
     "metadata": {},
     "output_type": "execute_result"
    }
   ],
   "source": [
    "arr_ex"
   ]
  },
  {
   "cell_type": "code",
   "execution_count": 56,
   "metadata": {},
   "outputs": [
    {
     "data": {
      "text/plain": [
       "array([[ 7, 67,  4, 63],\n",
       "       [ 7, 61, 79,  3]])"
      ]
     },
     "execution_count": 56,
     "metadata": {},
     "output_type": "execute_result"
    }
   ],
   "source": [
    "np.random.randint(0,100,8).reshape(2,4)"
   ]
  }
 ],
 "metadata": {
  "kernelspec": {
   "display_name": "Python 3",
   "language": "python",
   "name": "python3"
  },
  "language_info": {
   "codemirror_mode": {
    "name": "ipython",
    "version": 3
   },
   "file_extension": ".py",
   "mimetype": "text/x-python",
   "name": "python",
   "nbconvert_exporter": "python",
   "pygments_lexer": "ipython3",
   "version": "3.7.6"
  }
 },
 "nbformat": 4,
 "nbformat_minor": 4
}
